{
  "nbformat": 4,
  "nbformat_minor": 0,
  "metadata": {
    "colab": {
      "name": "Ex07_5p_MNIST Handwritten_Digit.ipynb",
      "provenance": [],
      "collapsed_sections": [],
      "authorship_tag": "ABX9TyMQD0CiUiB+jW9yoLQj0SJq",
      "include_colab_link": true
    },
    "kernelspec": {
      "name": "python3",
      "display_name": "Python 3"
    },
    "language_info": {
      "name": "python"
    }
  },
  "cells": [
    {
      "cell_type": "markdown",
      "metadata": {
        "id": "view-in-github",
        "colab_type": "text"
      },
      "source": [
        "<a href=\"https://colab.research.google.com/github/SungjooHwang/SungjooHwang/blob/main/Ex07_5p_MNIST_Handwritten_Digit.ipynb\" target=\"_parent\"><img src=\"https://colab.research.google.com/assets/colab-badge.svg\" alt=\"Open In Colab\"/></a>"
      ]
    },
    {
      "cell_type": "markdown",
      "metadata": {
        "id": "nI8Lj_GYcY52"
      },
      "source": [
        "**The source of this code**\n",
        "\n",
        "https://teddylee777.github.io/scikit-learn/sklearn%EC%9C%BC%EB%A1%9C-mnist-%EC%86%90%EA%B8%80%EC%94%A8%EB%B6%84%EB%A5%98%ED%95%98%EA%B8%B0\n",
        "\n",
        "https://github.com/rickiepark/handson-ml2/blob/master/03_classification.ipynb"
      ]
    },
    {
      "cell_type": "markdown",
      "metadata": {
        "id": "lmLtX8Hkc0jx"
      },
      "source": [
        "**Import Library**\n"
      ]
    },
    {
      "cell_type": "code",
      "metadata": {
        "id": "_usRS-VKdpAC"
      },
      "source": [
        "# Standard scientific Python imports\n",
        "import numpy as np\n",
        "import matplotlib as mpl\n",
        "import matplotlib.pyplot as plt\n",
        "\n",
        "# Import datasets, classifiers and performance metrics\n",
        "from sklearn import datasets, metrics\n",
        "from sklearn.model_selection import train_test_split\n",
        "from sklearn.ensemble import RandomForestClassifier"
      ],
      "execution_count": null,
      "outputs": []
    },
    {
      "cell_type": "markdown",
      "metadata": {
        "id": "8WaNi-dhEEPI"
      },
      "source": [
        "**MNIST Dataset Load**"
      ]
    },
    {
      "cell_type": "code",
      "metadata": {
        "id": "2k4BwwPQDsGm"
      },
      "source": [
        "# Code for loading MNIST data\n",
        "from sklearn.datasets import fetch_openml\n",
        "mnist = fetch_openml('mnist_784', version=1, as_frame=False)\n"
      ],
      "execution_count": null,
      "outputs": []
    },
    {
      "cell_type": "markdown",
      "metadata": {
        "id": "mItwvtTpIhYO"
      },
      "source": [
        "To see the shape of the first data"
      ]
    },
    {
      "cell_type": "markdown",
      "metadata": {
        "id": "3ymZzkuFI71F"
      },
      "source": [
        "**Data Preprocessing**"
      ]
    },
    {
      "cell_type": "code",
      "metadata": {
        "colab": {
          "base_uri": "https://localhost:8080/"
        },
        "id": "QX8FhZfPH3f0",
        "outputId": "6a9306ac-f164-43ac-be11-24f8ca5bb1ad"
      },
      "source": [
        "split_ratio = 0.9\n",
        "n_train = int(mnist.data.shape[0] * split_ratio)\n",
        "print(n_train) # 63000\n",
        "\n",
        "n_test = mnist.data.shape[0] - n_train\n",
        "print(n_test) #7000\n",
        "\n",
        "X_train = mnist.data[:n_train]\n",
        "y_train = mnist.target[:n_train]\n",
        "print(X_train.shape, y_train.shape) # ((63000, 784), (63000,))\n",
        "\n",
        "X_test = mnist.data[n_train:]\n",
        "y_test = mnist.target[n_train:]\n",
        "print(X_test.shape, y_test.shape) # ((7000, 784), (7000,))\n",
        "\n",
        "# Checking uniqueness of the target\n",
        "import numpy as np\n",
        "print(np.unique(y_train)) # ['0' '1' '2' '3' '4' '5' '6' '7' '8' '9']\n",
        "print(X_test) #[[0. 0. 0. ... 0. 0. 0.]  [0. 0. 0. ... 0. 0. 0.] ...  [0. 0. 0. ... 0. 0. 0.]]"
      ],
      "execution_count": null,
      "outputs": [
        {
          "output_type": "stream",
          "name": "stdout",
          "text": [
            "63000\n",
            "7000\n",
            "(63000, 784) (63000,)\n",
            "(7000, 784) (7000,)\n",
            "['0' '1' '2' '3' '4' '5' '6' '7' '8' '9']\n",
            "[[0. 0. 0. ... 0. 0. 0.]\n",
            " [0. 0. 0. ... 0. 0. 0.]\n",
            " [0. 0. 0. ... 0. 0. 0.]\n",
            " ...\n",
            " [0. 0. 0. ... 0. 0. 0.]\n",
            " [0. 0. 0. ... 0. 0. 0.]\n",
            " [0. 0. 0. ... 0. 0. 0.]]\n"
          ]
        }
      ]
    },
    {
      "cell_type": "code",
      "metadata": {
        "colab": {
          "base_uri": "https://localhost:8080/",
          "height": 266
        },
        "id": "FOPKeXa8U0Cy",
        "outputId": "29600198-ed44-48f3-ed5e-a1c4d1b5cb51"
      },
      "source": [
        "some_digit = mnist.data[0]\n",
        "some_digit_image = some_digit.reshape(28, 28)\n",
        "plt.imshow(some_digit_image, cmap=mpl.cm.binary)\n",
        "plt.axis(\"off\")\n",
        "plt.show()\n",
        "mnist.target[0] # 5"
      ],
      "execution_count": null,
      "outputs": [
        {
          "output_type": "display_data",
          "data": {
            "image/png": "[encoded data removed]",
            "text/plain": [
              "<Figure size 432x288 with 1 Axes>"
            ]
          },
          "metadata": {
            "needs_background": "light"
          }
        },
        {
          "output_type": "execute_result",
          "data": {
            "application/vnd.google.colaboratory.intrinsic+json": {
              "type": "string"
            },
            "text/plain": [
              "'5'"
            ]
          },
          "metadata": {},
          "execution_count": 21
        }
      ]
    },
    {
      "cell_type": "markdown",
      "metadata": {
        "id": "8DfAD2SqHamg"
      },
      "source": [
        "**Training and Prediction**\n",
        "\n",
        "Use random forest classifier"
      ]
    },
    {
      "cell_type": "code",
      "metadata": {
        "colab": {
          "base_uri": "https://localhost:8080/"
        },
        "id": "f2GhVtNyHaFh",
        "outputId": "e6627813-21c7-4c0d-a10d-416abee0ff70"
      },
      "source": [
        "# module loading\n",
        "clf = RandomForestClassifier()\n",
        "\n",
        "# train data!\n",
        "clf.fit(X_train, y_train)\n",
        "\n",
        "# make predicition\n",
        "prediction = clf.predict(X_test)\n",
        "print(prediction.shape) # 7000\n",
        "\n",
        "# accuracy\n",
        "result = (prediction == y_test).mean()\n",
        "print(result) # 0.976"
      ],
      "execution_count": null,
      "outputs": [
        {
          "output_type": "stream",
          "name": "stdout",
          "text": [
            "(7000,)\n",
            "0.976\n"
          ]
        }
      ]
    },
    {
      "cell_type": "markdown",
      "metadata": {
        "id": "62cUL73GIC5x"
      },
      "source": [
        "**Visualization**"
      ]
    },
    {
      "cell_type": "code",
      "metadata": {
        "colab": {
          "base_uri": "https://localhost:8080/",
          "height": 333
        },
        "id": "zzKWrN7fIHop",
        "outputId": "4e23dbe5-fa2d-4621-d336-8f13896f1e59"
      },
      "source": [
        "import matplotlib.pyplot as plt\n",
        "%matplotlib inline\n",
        "\n",
        "# Randomly choose several data\n",
        "random_pick = np.random.randint(low=0, high=n_test, size=10)\n",
        "random_pick # array([3898, 6815, 6640, 2924,  451, 2688,  633, 6563, 5993, 4024])\n",
        "\n",
        "\n",
        "figure = plt.figure()\n",
        "figure.set_size_inches(12, 5)\n",
        "\n",
        "\n",
        "axes = []\n",
        "for i in range(1, 11):\n",
        "    axes.append(figure.add_subplot(2, 5, i))\n",
        "\n",
        "tmp_list = []\n",
        "for i in range(10):\n",
        "    tmp = mnist.data[n_train + random_pick[i]]\n",
        "    tmp = tmp.reshape(-1, 28)\n",
        "    tmp_list.append(tmp)\n",
        "    \n",
        "\n",
        "for i in range(10):\n",
        "    axes[i].matshow(tmp_list[i])\n",
        "\n",
        "# print the test data label\n",
        "print(y_test[random_pick])"
      ],
      "execution_count": null,
      "outputs": [
        {
          "output_type": "stream",
          "name": "stdout",
          "text": [
            "['6' '7' '3' '0' '9' '9' '9' '0' '0' '2']\n"
          ]
        },
        {
          "output_type": "display_data",
          "data": {
            "image/png": "[encoded data removed]",
            "text/plain": [
              "<Figure size 864x360 with 10 Axes>"
            ]
          },
          "metadata": {
            "needs_background": "light"
          }
        }
      ]
    }
  ]
}