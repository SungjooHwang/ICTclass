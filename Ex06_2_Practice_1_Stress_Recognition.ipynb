{
  "nbformat": 4,
  "nbformat_minor": 0,
  "metadata": {
    "colab": {
      "provenance": [],
      "authorship_tag": "ABX9TyPbwBtxshIiukAUm46X8eoA",
      "include_colab_link": true
    },
    "kernelspec": {
      "name": "python3",
      "display_name": "Python 3"
    },
    "language_info": {
      "name": "python"
    }
  },
  "cells": [
    {
      "cell_type": "markdown",
      "metadata": {
        "id": "view-in-github",
        "colab_type": "text"
      },
      "source": [
        "<a href=\"https://colab.research.google.com/github/SungjooHwang/ICTclass/blob/main/Ex06_2_Practice_1_Stress_Recognition.ipynb\" target=\"_parent\"><img src=\"https://colab.research.google.com/assets/colab-badge.svg\" alt=\"Open In Colab\"/></a>"
      ]
    },
    {
      "cell_type": "markdown",
      "metadata": {
        "id": "f28tsYKYTWYx"
      },
      "source": [
        "**This code is based on: https://stackabuse.com/cross-validation-and-grid-search-for-model-selection-in-python/ **"
      ]
    },
    {
      "cell_type": "markdown",
      "metadata": {
        "id": "VsDddg5xXZmO"
      },
      "source": [
        "**The Dataset**\n",
        "\n",
        "For the Practice #1 in the Lecture Note #10, Use 'EDA_features.csv'that include acceleration signal features and labels of actions ('1' for high stress, '0' for low stress.\n",
        "\n"
      ]
    },
    {
      "cell_type": "markdown",
      "metadata": {
        "id": "kJuAydsQYIe3"
      },
      "source": [
        "**Importing Libraries**"
      ]
    },
    {
      "cell_type": "code",
      "metadata": {
        "id": "5Xvt8ycgYKQV"
      },
      "source": [
        "import numpy as np\n",
        "import matplotlib.pyplot as plt\n",
        "import pandas as pd"
      ],
      "execution_count": null,
      "outputs": []
    },
    {
      "cell_type": "markdown",
      "metadata": {
        "id": "rWQRdjWeYK7r"
      },
      "source": [
        "**Importing the Dataset**\n",
        "\n",
        "Import the dataset and load it into our pandas dataframe,"
      ]
    },
    {
      "cell_type": "code",
      "metadata": {
        "id": "FITNbe1JYTeq"
      },
      "source": [
        "dataset = pd.read_csv(\"EDA_features.csv\")"
      ],
      "execution_count": null,
      "outputs": []
    },
    {
      "cell_type": "code",
      "metadata": {
        "colab": {
          "base_uri": "https://localhost:8080/",
          "height": 206
        },
        "id": "qq9O6zYnYWVY",
        "outputId": "69299000-b18d-4510-d75f-cb1cf8d83885"
      },
      "source": [
        "dataset.head()"
      ],
      "execution_count": null,
      "outputs": [
        {
          "output_type": "execute_result",
          "data": {
            "text/html": [
              "<div>\n",
              "<style scoped>\n",
              "    .dataframe tbody tr th:only-of-type {\n",
              "        vertical-align: middle;\n",
              "    }\n",
              "\n",
              "    .dataframe tbody tr th {\n",
              "        vertical-align: top;\n",
              "    }\n",
              "\n",
              "    .dataframe thead th {\n",
              "        text-align: right;\n",
              "    }\n",
              "</style>\n",
              "<table border=\"1\" class=\"dataframe\">\n",
              "  <thead>\n",
              "    <tr style=\"text-align: right;\">\n",
              "      <th></th>\n",
              "      <th>mean.SCR-Amplitude</th>\n",
              "      <th>mean.nSCR</th>\n",
              "      <th>mean.Latency [s]</th>\n",
              "      <th>mean.AmpSum [muS]</th>\n",
              "      <th>mean.SCR [muS]</th>\n",
              "      <th>mean.ISCR [muSxs]</th>\n",
              "      <th>mean.PhasicMax [muS]</th>\n",
              "      <th>mean.Tonic [muS]</th>\n",
              "      <th>Stress</th>\n",
              "    </tr>\n",
              "  </thead>\n",
              "  <tbody>\n",
              "    <tr>\n",
              "      <th>0</th>\n",
              "      <td>0.056009</td>\n",
              "      <td>0.483871</td>\n",
              "      <td>8.642857</td>\n",
              "      <td>0.025914</td>\n",
              "      <td>0.001367</td>\n",
              "      <td>0.164075</td>\n",
              "      <td>0.100281</td>\n",
              "      <td>0.347202</td>\n",
              "      <td>0</td>\n",
              "    </tr>\n",
              "    <tr>\n",
              "      <th>1</th>\n",
              "      <td>0.038883</td>\n",
              "      <td>2.866667</td>\n",
              "      <td>9.697368</td>\n",
              "      <td>0.111464</td>\n",
              "      <td>0.003969</td>\n",
              "      <td>0.476328</td>\n",
              "      <td>0.214056</td>\n",
              "      <td>0.324783</td>\n",
              "      <td>1</td>\n",
              "    </tr>\n",
              "    <tr>\n",
              "      <th>2</th>\n",
              "      <td>0.096909</td>\n",
              "      <td>6.413793</td>\n",
              "      <td>7.595238</td>\n",
              "      <td>0.617555</td>\n",
              "      <td>0.016855</td>\n",
              "      <td>2.021824</td>\n",
              "      <td>0.697503</td>\n",
              "      <td>0.930900</td>\n",
              "      <td>0</td>\n",
              "    </tr>\n",
              "    <tr>\n",
              "      <th>3</th>\n",
              "      <td>0.024563</td>\n",
              "      <td>0.851852</td>\n",
              "      <td>11.291667</td>\n",
              "      <td>0.020922</td>\n",
              "      <td>0.001667</td>\n",
              "      <td>0.199644</td>\n",
              "      <td>0.106704</td>\n",
              "      <td>0.085922</td>\n",
              "      <td>1</td>\n",
              "    </tr>\n",
              "    <tr>\n",
              "      <th>4</th>\n",
              "      <td>0.078719</td>\n",
              "      <td>6.064516</td>\n",
              "      <td>7.428571</td>\n",
              "      <td>0.471905</td>\n",
              "      <td>0.012251</td>\n",
              "      <td>1.470121</td>\n",
              "      <td>0.430211</td>\n",
              "      <td>0.912001</td>\n",
              "      <td>0</td>\n",
              "    </tr>\n",
              "  </tbody>\n",
              "</table>\n",
              "</div>"
            ],
            "text/plain": [
              "   mean.SCR-Amplitude  mean.nSCR  ...  mean.Tonic [muS]  Stress\n",
              "0            0.056009   0.483871  ...          0.347202       0\n",
              "1            0.038883   2.866667  ...          0.324783       1\n",
              "2            0.096909   6.413793  ...          0.930900       0\n",
              "3            0.024563   0.851852  ...          0.085922       1\n",
              "4            0.078719   6.064516  ...          0.912001       0\n",
              "\n",
              "[5 rows x 9 columns]"
            ]
          },
          "metadata": {},
          "execution_count": 5
        }
      ]
    },
    {
      "cell_type": "markdown",
      "metadata": {
        "id": "xqpo7ccoYcAQ"
      },
      "source": [
        "**Preprocessing**"
      ]
    },
    {
      "cell_type": "markdown",
      "metadata": {
        "id": "JQ6XKP-dYiAX"
      },
      "source": [
        "The next step is to split our dataset into its attributes and labels.\n",
        "\n",
        "The X variable contains the first 30 columns of the dataset (i.e. signal features) while y contains the labels of actions."
      ]
    },
    {
      "cell_type": "code",
      "metadata": {
        "id": "B6QfmbgiYi0_",
        "colab": {
          "base_uri": "https://localhost:8080/"
        },
        "outputId": "f6343128-dbd8-4cbb-cd3b-b0a702074dd5"
      },
      "source": [
        "X = dataset.iloc[:, :-1].values\n",
        "y = dataset.iloc[:, -1].values\n",
        "print(y)"
      ],
      "execution_count": null,
      "outputs": [
        {
          "output_type": "stream",
          "name": "stdout",
          "text": [
            "[0 1 0 1 0 1 0 1 0 1 0 1 0 1 0 1 0 1 0 1 0 1 0 1 0 1 0 1 0 1 0 1 0 1 0 1 0\n",
            " 1 0 1 0 1 0 1]\n"
          ]
        }
      ]
    },
    {
      "cell_type": "markdown",
      "metadata": {
        "id": "_Lisy_fSZkpX"
      },
      "source": [
        "**Feature Scaling**\n",
        "\n",
        "Before making any actual predictions, it is always a good practice to scale the features so that all of them can be uniformly evaluated. Wikipedia explains the reasoning pretty well:\n",
        "\n",
        "*Since the range of values of raw data varies widely, in some machine learning algorithms, objective functions will not work properly without normalization. For example, the majority of classifiers calculate the distance between two points by the Euclidean distance. If one of the features has a broad range of values, the distance will be governed by this particular feature. Therefore, the range of all features should be normalized so that each feature contributes approximately proportionately to the final distance.*\n",
        "\n",
        "The gradient descent algorithm (which is used in neural network training and other machine learning algorithms) also converges faster with normalized features.\n",
        "\n"
      ]
    },
    {
      "cell_type": "code",
      "metadata": {
        "id": "WQbpKT6wZ0RL",
        "colab": {
          "base_uri": "https://localhost:8080/"
        },
        "outputId": "647626f9-7509-4dc0-c691-97a438f058f0"
      },
      "source": [
        "from sklearn.preprocessing import StandardScaler\n",
        "scaler = StandardScaler()\n",
        "scaler.fit(X)\n",
        "\n",
        "X = scaler.transform(X)\n",
        "print(X)"
      ],
      "execution_count": null,
      "outputs": [
        {
          "output_type": "stream",
          "name": "stdout",
          "text": [
            "[[-2.37835627e-01 -1.18098328e+00  5.56924060e-01 -5.57631061e-01\n",
            "  -5.77339774e-01 -5.77284688e-01 -6.45045982e-01 -2.89877315e-01]\n",
            " [-4.46185385e-01 -7.06398115e-01  8.52879101e-01 -4.86875143e-01\n",
            "  -4.84614841e-01 -4.84562719e-01 -4.99310210e-01 -2.94790285e-01]\n",
            " [ 2.59747988e-01  8.86287371e-05  2.62903366e-01 -6.82969802e-02\n",
            "  -2.54354822e-02 -2.56346565e-02  1.19944847e-01 -1.61965353e-01]\n",
            " [-6.20392984e-01 -1.10769195e+00  1.30032866e+00 -5.61760051e-01\n",
            "  -5.66671773e-01 -5.66722618e-01 -6.36819110e-01 -3.47134468e-01]\n",
            " [ 3.84492078e-02 -6.94774148e-02  2.16127346e-01 -1.88761202e-01\n",
            "  -1.89502915e-01 -1.89460289e-01 -2.22433668e-01 -1.66106977e-01]\n",
            " [-4.92308067e-01 -1.14457557e+00 -6.29387206e-04 -5.59716857e-01\n",
            "  -5.78549997e-01 -5.78371678e-01 -6.72490207e-01 -3.21818023e-01]\n",
            " [ 6.25116910e-01  1.53032004e+00 -1.30969779e+00  8.89435725e-01\n",
            "   9.42333707e-01  9.42339915e-01  1.34744259e+00  6.00750873e-02]\n",
            " [ 2.88121456e+00  2.01218674e+00 -1.56998370e+00  3.71339524e+00\n",
            "   3.57968483e+00  3.57960624e+00  3.53246583e+00  1.20266832e+00]\n",
            " [ 1.32573618e+00  1.92223829e+00 -1.45002585e+00  1.86348703e+00\n",
            "   1.84676404e+00  1.84674118e+00  2.68510481e+00  9.92960454e-01]\n",
            " [-3.21060160e-01  4.51452616e-01 -1.01274551e+00 -2.26900429e-01\n",
            "  -2.92950549e-01 -2.92657545e-01 -2.36932596e-01 -1.95461464e-01]\n",
            " [-4.80550479e-01 -2.34076962e-01 -3.60220037e-01 -4.22659666e-01\n",
            "  -4.62143627e-01 -4.62242127e-01 -4.96862597e-01 -2.19103710e-01]\n",
            " [-6.17186499e-01  3.08049085e-01 -4.53772076e-01 -4.15616885e-01\n",
            "  -4.93216997e-01 -4.93107599e-01 -6.01726797e-01 -2.62366030e-01]\n",
            " [ 1.63041427e+00  1.14456968e+00 -1.14184732e+00  1.51664668e+00\n",
            "   2.15699943e+00  2.15681456e+00  2.52331006e+00  1.85264872e+00]\n",
            " [ 4.73719999e+00  1.03682735e+00 -1.54465568e+00  3.88572513e+00\n",
            "   3.57508679e+00  3.57541701e+00  1.84890052e+00  5.88986798e+00]\n",
            " [-6.51474463e-01 -5.44919229e-01 -8.70258558e-01 -5.12250365e-01\n",
            "  -5.07532734e-01 -5.07479882e-01 -5.46698686e-01 -3.64666227e-01]\n",
            " [-3.90403962e-01  6.76421648e-01 -6.96594649e-01 -2.26673258e-01\n",
            "   5.20127205e-02  5.17365028e-02  5.57805802e-01 -3.19139404e-01]\n",
            " [-3.24072226e-01  1.47917792e+00 -7.12443465e-01 -2.10766546e-02\n",
            "  -2.06144665e-01 -2.06061126e-01 -3.21462705e-01 -1.85043510e-01]\n",
            " [-2.14995946e-02  1.28342072e+00 -9.98712704e-01  2.02793845e-01\n",
            "   2.88558612e-01  2.88136186e-01  4.21699488e-01 -9.11046279e-03]\n",
            " [-2.65822240e-01 -9.98516419e-01  1.24770564e+00 -5.16877921e-01\n",
            "  -5.45243512e-01 -5.45216773e-01 -6.00384399e-01 -2.86898406e-01]\n",
            " [-6.19865942e-01 -3.40512563e-01  8.13078453e-01 -4.83576502e-01\n",
            "  -5.17707197e-01 -5.17799206e-01 -6.22600959e-01 -2.73010495e-01]\n",
            " [-6.48709141e-01 -3.21333079e-01 -1.80682668e-01 -4.90788515e-01\n",
            "  -4.11399957e-01 -4.11480859e-01 -2.07799476e-01 -3.57027848e-01]\n",
            " [ 1.30820111e-01  1.83145181e+00 -1.01721049e+00  5.31024151e-01\n",
            "   5.95429314e-01  5.95364060e-01  7.19191217e-01 -3.58879569e-01]\n",
            " [-5.90237557e-01 -2.49631313e-01  4.18600688e-01 -4.63656989e-01\n",
            "  -4.28789642e-01 -4.29087348e-01 -3.36403292e-01 -3.32396421e-01]\n",
            " [-4.37871002e-01  1.18857712e+00 -3.87916365e-01 -1.75496710e-01\n",
            "  -1.60946416e-01 -1.60834015e-01 -3.93443370e-02 -3.44760095e-01]\n",
            " [-5.70681509e-01 -7.09348805e-01  6.89051128e-01 -5.11651267e-01\n",
            "  -5.26153915e-01 -5.26537101e-01 -5.47069702e-01 -3.35734276e-01]\n",
            " [-6.72034922e-01 -1.67686438e-01  6.92240402e-01 -4.85431086e-01\n",
            "  -4.99814494e-01 -5.00007932e-01 -5.98561108e-01 -3.25813807e-01]\n",
            " [-4.03409397e-01  4.19035726e-01 -1.33536250e-01 -2.82168412e-01\n",
            "  -2.52759638e-01 -2.52953563e-01 -6.90209599e-02 -2.79016017e-01]\n",
            " [-6.24568977e-01 -4.04795451e-01 -2.54973993e-01 -4.91307291e-01\n",
            "  -5.21704330e-01 -5.21755651e-01 -5.95059942e-01 -3.08444289e-01]\n",
            " [ 1.16141524e+00  7.14359090e-01 -8.51368243e-01  8.28585892e-01\n",
            "   9.55803550e-01  9.56017215e-01  1.42359395e+00  4.94843486e-01]\n",
            " [ 2.17360126e-02 -6.16107003e-01 -5.07564499e-01 -3.68764468e-01\n",
            "  -3.89876659e-01 -3.89770583e-01 -4.64136086e-01  6.18352686e-02]\n",
            " [-5.22781748e-01 -1.10663813e+00  2.36174212e-01 -5.55961302e-01\n",
            "  -5.70404925e-01 -5.70466016e-01 -6.70463110e-01 -3.21732570e-01]\n",
            " [-3.93840988e-01 -1.15405993e+00  1.71964226e+00 -5.56953798e-01\n",
            "  -5.65993041e-01 -5.65753068e-01 -6.17292958e-01 -3.13286257e-01]\n",
            " [ 1.59331746e-01  3.25500309e-01 -3.77761045e-01  5.17690663e-03\n",
            "   9.08154487e-03  9.10927705e-03  1.22837738e-01 -2.16763078e-01]\n",
            " [-3.57466255e-01 -8.79013477e-01  1.03496470e+00 -5.02800447e-01\n",
            "  -5.37131225e-01 -5.37220730e-01 -6.54439214e-01 -2.82801502e-01]\n",
            " [-4.37969921e-01 -6.10897901e-01  9.61202514e-01 -4.69854870e-01\n",
            "  -4.83113234e-01 -4.82877280e-01 -5.04904441e-01 -3.34856496e-01]\n",
            " [ 5.40990863e-01  1.58347140e+00 -1.07238494e+00  8.43490328e-01\n",
            "   8.59090143e-01  8.58949211e-01  7.75786120e-01 -3.29780398e-01]\n",
            " [-3.60325861e-01 -1.13395309e+00  8.39584864e-01 -5.51704598e-01\n",
            "  -5.57786891e-01 -5.57669477e-01 -5.80550719e-01 -2.89696396e-01]\n",
            " [-5.12529068e-01 -7.66438241e-01  1.08226986e+00 -5.08136910e-01\n",
            "  -5.30159244e-01 -5.30167630e-01 -5.84523559e-01 -2.90998321e-01]\n",
            " [-2.78884951e-01 -1.17302865e+00 -4.18690062e-01 -5.56260626e-01\n",
            "  -5.75834961e-01 -5.75736091e-01 -6.38562239e-01 -3.28447670e-01]\n",
            " [-4.00218325e-01 -1.13880248e+00  2.22081390e+00 -5.54518108e-01\n",
            "  -5.76329284e-01 -5.76164479e-01 -6.75635564e-01 -3.30451289e-01]\n",
            " [-9.40792624e-02 -1.10663813e+00  2.76987527e+00 -5.30979553e-01\n",
            "  -5.50721049e-01 -5.50702176e-01 -5.76651372e-01 -3.33036062e-01]\n",
            " [-1.46218303e-01 -1.15405993e+00  2.71256226e-01 -5.46532592e-01\n",
            "  -5.65314273e-01 -5.65000806e-01 -6.10717598e-01 -3.04018688e-01]\n",
            " [-6.31077007e-02  1.64266180e-01 -5.76903069e-01 -1.60160287e-01\n",
            "  -3.35725645e-01 -3.35717915e-01 -5.36686840e-01 -2.86695085e-01]\n",
            " [-5.08580573e-01  9.48169194e-01 -2.85044292e-01 -2.67960124e-01\n",
            "  -3.73831789e-01 -3.73727731e-01 -4.67492527e-01 -2.53771061e-01]]\n"
          ]
        }
      ]
    },
    {
      "cell_type": "markdown",
      "metadata": {
        "id": "NCAX9rLqaDvS"
      },
      "source": [
        "**Training and Cross Validation**\n",
        "\n",
        "The first step in the training and cross validation phase is simple."
      ]
    },
    {
      "cell_type": "code",
      "metadata": {
        "id": "jpiGeFuCaKHj"
      },
      "source": [
        "from sklearn.ensemble import RandomForestClassifier\n",
        "classifier = RandomForestClassifier(n_estimators=300, random_state=0)\n"
      ],
      "execution_count": null,
      "outputs": []
    },
    {
      "cell_type": "markdown",
      "metadata": {
        "id": "AXZ1rV-vaQB2"
      },
      "source": [
        "Next, to implement cross validation, the *cross_val_score* method of the *sklearn.model_selection* library can be used. The *cross_val_score* returns the accuracy for all the folds. The first parameter is estimator which basically specifies the algorithm that you want to use for cross validation. The second and third parameters, X and y, i.e. features and labels. Finally the number of folds is passed to the cv parameter as shown in the following code:"
      ]
    },
    {
      "cell_type": "code",
      "metadata": {
        "id": "1MRZefNkaTbE"
      },
      "source": [
        "from sklearn.model_selection import cross_val_score\n",
        "all_accuracies = cross_val_score(estimator=classifier, X=X, y=y, cv=10)"
      ],
      "execution_count": null,
      "outputs": []
    },
    {
      "cell_type": "code",
      "metadata": {
        "colab": {
          "base_uri": "https://localhost:8080/"
        },
        "id": "QfovA0G4PfDF",
        "outputId": "1e44b1a8-de5a-4c5a-ed17-3e938177dea4"
      },
      "source": [
        "print(all_accuracies)\n",
        "print(all_accuracies.mean())\n",
        "print(all_accuracies.std())"
      ],
      "execution_count": null,
      "outputs": [
        {
          "output_type": "stream",
          "name": "stdout",
          "text": [
            "[0.4  0.4  0.8  0.6  0.75 0.75 0.5  0.5  1.   0.25]\n",
            "0.595\n",
            "0.21615966321217286\n"
          ]
        }
      ]
    },
    {
      "cell_type": "markdown",
      "metadata": {
        "id": "6lOtpvFwapFb"
      },
      "source": [
        "**(Optional) Grid Search for Parameter Selection**\n",
        "\n",
        "A machine learning model has two types of parameters. The first type of parameters are the parameters that are learned through a machine learning model while the second type of parameters are the hyper parameter that we pass to the machine learning model.\n",
        "\n",
        "In the last section, we used the Random Forest algorithm. The number of estimators we used for the algorithm was 300. Similarly in KNN algorithm we have to specify the value of K and for SVM algorithm we have to specify the type of Kernel. These estimators - the K value and Kernel - are all types of hyper parameters.\n",
        "\n",
        "Normally we randomly set the value for these hyper parameters and see what parameters result in best performance. However randomly selecting the parameters for the algorithm can be exhaustive.\n",
        "\n",
        "Also, it is not easy to compare performance of different algorithms by randomly setting the hyper parameters because one algorithm may perform better than the other with different set of parameters. And if the parameters are changed, the algorithm may perform worse than the other algorithms.\n",
        "\n",
        "Therefore, instead of randomly selecting the values of the parameters, a better approach would be to develop an algorithm which automatically finds the best parameters for a particular model. Grid Search is one such algorithm.\n",
        "\n",
        "To implement the Grid Search algorithm we need to import GridSearchCV class from the sklearn.model_selection library.\n",
        "The first step you need to perform is to create a dictionary of all the parameters and their corresponding set of values that you want to test for best performance. The name of the dictionary items corresponds to the parameter name and the value corresponds to the list of values for the parameter.\n",
        "Let's create a dictionary of parameters and their corresponding values for our Random Forest algorithm. Details of all the parameters for the random forest algorithm are available in the Scikit-Learn docs."
      ]
    },
    {
      "cell_type": "code",
      "metadata": {
        "id": "FeoRjxYAavik"
      },
      "source": [
        "from sklearn.model_selection import GridSearchCV\n",
        "grid_param = {\n",
        "    'n_estimators': [100, 300, 500, 800, 1000],\n",
        "    'criterion': ['gini', 'entropy'],\n",
        "    'bootstrap': [True, False]\n",
        "}"
      ],
      "execution_count": null,
      "outputs": []
    },
    {
      "cell_type": "markdown",
      "metadata": {
        "id": "L2Ncl8iBa2TW"
      },
      "source": [
        "Take a careful look at the above code. Here we create grid_param dictionary with three parameters n_estimators, criterion, and bootstrap. The parameter values that we want to try out are passed in the list. For instance, in the above script we want to find which value (out of 100, 300, 500, 800, and 1000) provides the highest accuracy.\n",
        "\n",
        "Similarly, we want to find which value results in the highest performance for the criterion parameter: \"gini\" or \"entropy\"? The Grid Search algorithm basically tries all possible combinations of parameter values and returns the combination with the highest accuracy. For instance, in the above case the algorithm will check 20 combinations (5 x 2 x 2 = 20).\n",
        "\n",
        "The Grid Search algorithm can be very slow, owing to the potentially huge number of combinations to test. Furthermore, cross validation further increases the execution time and complexity.\n",
        "\n",
        "Once the parameter dictionary is created, the next step is to create an instance of the GridSearchCV class. You need to pass values for the estimator parameter, which basically is the algorithm that you want to execute. The param_grid parameter takes the parameter dictionary that we just created as parameter, the scoring parameter takes the performance metrics, the cv parameter corresponds to number of folds, which is 5 in our case, and finally the n_jobs parameter refers to the number of CPU's that you want to use for execution. A value of -1 for n_jobs parameter means that use all available computing power. This can be handy if you have large number amount of data."
      ]
    },
    {
      "cell_type": "code",
      "metadata": {
        "id": "ccu1e8Zca3hz"
      },
      "source": [
        "gd_sr = GridSearchCV(estimator=classifier,\n",
        "                     param_grid=grid_param,\n",
        "                     scoring='accuracy',\n",
        "                     cv=5,\n",
        "                     n_jobs=-1)\n"
      ],
      "execution_count": null,
      "outputs": []
    },
    {
      "cell_type": "markdown",
      "metadata": {
        "id": "Cyrgp6-eQ4iV"
      },
      "source": [
        "\n",
        "Once the GridSearchCV class is initialized, the last step is to call the fit method of the class and pass it the training  set\n",
        "\n"
      ]
    },
    {
      "cell_type": "code",
      "metadata": {
        "colab": {
          "base_uri": "https://localhost:8080/"
        },
        "id": "YdkpBmknQ4pU",
        "outputId": "579418ed-e75c-47c5-f05e-a2c4e2d3b390"
      },
      "source": [
        "gd_sr.fit(X, y)"
      ],
      "execution_count": null,
      "outputs": [
        {
          "output_type": "execute_result",
          "data": {
            "text/plain": [
              "GridSearchCV(cv=5,\n",
              "             estimator=RandomForestClassifier(n_estimators=300, random_state=0),\n",
              "             n_jobs=-1,\n",
              "             param_grid={'bootstrap': [True, False],\n",
              "                         'criterion': ['gini', 'entropy'],\n",
              "                         'n_estimators': [100, 300, 500, 800, 1000]},\n",
              "             scoring='accuracy')"
            ]
          },
          "metadata": {},
          "execution_count": 13
        }
      ]
    },
    {
      "cell_type": "markdown",
      "metadata": {
        "id": "UB73etFQRIPC"
      },
      "source": [
        "Once the method completes execution, the next step is to check the parameters that return the highest accuracy. To do so, print the sr.best_params_ attribute of the GridSearchCV object."
      ]
    },
    {
      "cell_type": "code",
      "metadata": {
        "colab": {
          "base_uri": "https://localhost:8080/"
        },
        "id": "1-hT5wEzRIXJ",
        "outputId": "c0f56e0f-3d97-45e4-fada-c5b3f59d4169"
      },
      "source": [
        "best_parameters = gd_sr.best_params_\n",
        "print(best_parameters)"
      ],
      "execution_count": null,
      "outputs": [
        {
          "output_type": "stream",
          "name": "stdout",
          "text": [
            "{'bootstrap': True, 'criterion': 'entropy', 'n_estimators': 300}\n"
          ]
        }
      ]
    },
    {
      "cell_type": "markdown",
      "metadata": {
        "id": "tMytqwj0RMaa"
      },
      "source": [
        "The last and final step of Grid Search algorithm is to find the accuracy obtained using the best parameters."
      ]
    },
    {
      "cell_type": "code",
      "metadata": {
        "colab": {
          "base_uri": "https://localhost:8080/"
        },
        "id": "3sZB8QKWRMhZ",
        "outputId": "d99ddb69-a8eb-45e7-f346-e13940d72790"
      },
      "source": [
        "best_result = gd_sr.best_score_\n",
        "print(best_result)"
      ],
      "execution_count": null,
      "outputs": [
        {
          "output_type": "stream",
          "name": "stdout",
          "text": [
            "0.5916666666666666\n"
          ]
        }
      ]
    }
  ]
}