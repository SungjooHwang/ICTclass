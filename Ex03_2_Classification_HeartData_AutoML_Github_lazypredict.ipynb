{
  "nbformat": 4,
  "nbformat_minor": 0,
  "metadata": {
    "colab": {
      "provenance": [],
      "authorship_tag": "ABX9TyP7qVAPX9Xrs3jmHItTDAHe",
      "include_colab_link": true
    },
    "kernelspec": {
      "name": "python3",
      "display_name": "Python 3"
    },
    "language_info": {
      "name": "python"
    }
  },
  "cells": [
    {
      "cell_type": "markdown",
      "metadata": {
        "id": "view-in-github",
        "colab_type": "text"
      },
      "source": [
        "<a href=\"https://colab.research.google.com/github/SungjooHwang/ICTclass/blob/main/Ex03_2_Classification_HeartData_AutoML_Github_lazypredict.ipynb\" target=\"_parent\"><img src=\"https://colab.research.google.com/assets/colab-badge.svg\" alt=\"Open In Colab\"/></a>"
      ]
    },
    {
      "cell_type": "code",
      "execution_count": null,
      "metadata": {
        "id": "nH3KogdcAQ6E"
      },
      "outputs": [],
      "source": [
        "# This script uses PyCaret, a low-code machine learning library that simplifies model training and comparison.\n",
        "# PyCaret is suitable for beginners, quick prototyping, and works well in Google Colab.\n",
        "# It automatically handles preprocessing, model training, cross-validation, and comparison of many algorithms.\n",
        "# Ideal for tabular data and classification or regression tasks.\n",
        "\n",
        "# PyCaret is especially useful when:\n",
        "# - You want to compare many models quickly without writing separate code for each\n",
        "# - You prefer automation of preprocessing and hyperparameter tuning\n",
        "# - You are working in a limited environment like Google Colab or Jupyter\n",
        "\n",
        "# If you need full control or custom model architecture (e.g., deep learning, text/image data), consider:\n",
        "# - scikit-learn for customizable ML pipelines\n",
        "# - XGBoost or LightGBM for high-performance gradient boosting\n",
        "# - PyTorch or TensorFlow for deep learning tasks\n",
        "# - Auto-sklearn or Google AutoML for advanced AutoML capabilities"
      ]
    },
    {
      "cell_type": "code",
      "source": [
        "!pip install lazypredict"
      ],
      "metadata": {
        "id": "ZJs8Y_fnARlV"
      },
      "execution_count": null,
      "outputs": []
    },
    {
      "cell_type": "code",
      "source": [
        "import numpy as np\n",
        "import pandas as pd\n",
        "from sklearn.model_selection import train_test_split\n",
        "from lazypredict.Supervised import LazyClassifier"
      ],
      "metadata": {
        "id": "0WIkC0ZNATGu"
      },
      "execution_count": null,
      "outputs": []
    },
    {
      "cell_type": "code",
      "source": [
        "# Load the dataset\n",
        "df = pd.read_csv('Ex03_2_heartData.csv')"
      ],
      "metadata": {
        "id": "VWnIB1vhAURH"
      },
      "execution_count": null,
      "outputs": []
    },
    {
      "cell_type": "code",
      "source": [
        "# Features and target\n",
        "X = df.drop(columns=['HeartDisease'])   # input features\n",
        "y = df['HeartDisease']                  # target label"
      ],
      "metadata": {
        "id": "l4djd9p3MVqT"
      },
      "execution_count": null,
      "outputs": []
    },
    {
      "cell_type": "code",
      "source": [
        "# Automatically encode categorical variables using One-Hot Encoding\n",
        "X = pd.get_dummies(X, drop_first=True)"
      ],
      "metadata": {
        "id": "Z4Neesx7MXjP"
      },
      "execution_count": null,
      "outputs": []
    },
    {
      "cell_type": "code",
      "source": [
        "# Train/test split (cv는 LazyPredict 내부에서는 사용되지 않음)\n",
        "X_train, X_test, y_train, y_test = train_test_split(\n",
        "    X, y, test_size=0.3, stratify=y, random_state=42\n",
        ")"
      ],
      "metadata": {
        "id": "g7C2QAdfMgGJ"
      },
      "execution_count": null,
      "outputs": []
    },
    {
      "cell_type": "code",
      "source": [
        "# LazyClassifier 실행\n",
        "clf = LazyClassifier(verbose=0, ignore_warnings=True, custom_metric=None)\n",
        "models, predictions = clf.fit(X_train, X_test, y_train, y_test)\n",
        "# 결과 보기\n",
        "print(models)"
      ],
      "metadata": {
        "id": "xCKkzrsvMas6"
      },
      "execution_count": null,
      "outputs": []
    },
    {
      "cell_type": "markdown",
      "source": [
        "Grid Search"
      ],
      "metadata": {
        "id": "59A6_3UaMsX4"
      }
    },
    {
      "cell_type": "code",
      "source": [
        "from sklearn.ensemble import AdaBoostClassifier\n",
        "from sklearn.tree import DecisionTreeClassifier\n",
        "from sklearn.model_selection import GridSearchCV\n",
        "from sklearn.metrics import accuracy_score"
      ],
      "metadata": {
        "id": "Sm8Rm3L-Ml4y"
      },
      "execution_count": null,
      "outputs": []
    },
    {
      "cell_type": "code",
      "source": [
        "# 약한 학습기 정의\n",
        "base_model = DecisionTreeClassifier(random_state=42)"
      ],
      "metadata": {
        "id": "G4oxzJ-VMzFE"
      },
      "execution_count": null,
      "outputs": []
    },
    {
      "cell_type": "code",
      "source": [
        "#  AdaBoost 모델 정의\n",
        "ada = AdaBoostClassifier(estimator=base_model, random_state=42)"
      ],
      "metadata": {
        "id": "cF5HfWGYM5mG"
      },
      "execution_count": null,
      "outputs": []
    },
    {
      "cell_type": "code",
      "source": [
        "# 하이퍼파라미터 탐색 공간 정의\n",
        "param_grid = {\n",
        "    # n_estimators: 부스팅 반복 횟수 (결합할 약한 모델 개수)\n",
        "    'n_estimators': [50, 100, 200],\n",
        "\n",
        "    # learning_rate: 각 모델의 기여도 (값이 작으면 느리지만 더 안정적, 보통 0.01 ~ 1.0 사이)\n",
        "    'learning_rate': [0.01, 0.1, 1.0],\n",
        "\n",
        "    # estimator__max_depth: 약한 학습기(의사결정나무)의 깊이\n",
        "    # → 너무 깊으면 과적합, 너무 얕으면 성능 제한됨 (보통 1~3 사이 추천)\n",
        "    'estimator__max_depth': [1, 2, 3],\n",
        "}\n",
        "\n",
        "# 그리드 서치로 하이퍼파라미터 튜닝 수행\n",
        "grid_search = GridSearchCV(\n",
        "    estimator=ada,             # AdaBoost 분류기\n",
        "    param_grid=param_grid,     # 탐색할 하이퍼파라미터\n",
        "    scoring='accuracy',        # 정확도를 기준으로 평가\n",
        "    cv=5,                      # 5-fold 교차검증\n",
        "    n_jobs=-1,                 # 모든 CPU 사용\n",
        "    verbose=1                  # 출력 자세히 보기\n",
        ")\n",
        "\n"
      ],
      "metadata": {
        "id": "OGkhnedYNIZ4"
      },
      "execution_count": null,
      "outputs": []
    },
    {
      "cell_type": "code",
      "source": [
        "# 학습\n",
        "grid_search.fit(X_train, y_train)\n"
      ],
      "metadata": {
        "id": "rz9gs6rRNMpS"
      },
      "execution_count": null,
      "outputs": []
    },
    {
      "cell_type": "code",
      "source": [
        "# 최적의 하이퍼파라미터 및 성능 출력\n",
        "print(\"Best Parameters:\", grid_search.best_params_)\n",
        "print(\"Best Cross-Validation Accuracy:\", grid_search.best_score_)\n",
        "\n"
      ],
      "metadata": {
        "id": "mhDo1UYONilT"
      },
      "execution_count": null,
      "outputs": []
    },
    {
      "cell_type": "code",
      "source": [
        "# 테스트셋 성능 확인\n",
        "best_model = grid_search.best_estimator_\n",
        "y_pred = best_model.predict(X_test)\n",
        "print(\"Test Accuracy:\", accuracy_score(y_test, y_pred))"
      ],
      "metadata": {
        "id": "rYIcanc5Njxe"
      },
      "execution_count": null,
      "outputs": []
    }
  ]
}